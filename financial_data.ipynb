{
 "cells": [
  {
   "cell_type": "markdown",
   "metadata": {},
   "source": [
    "# Analyse de données financières : Détection d'anomalies dans un porteuille d'actifs"
   ]
  },
  {
   "cell_type": "code",
   "execution_count": null,
   "metadata": {},
   "outputs": [],
   "source": [
    "import quandl\n",
    "import pandas as pd\n",
    "import numpy as np\n",
    "import datetime\n",
    "import matplotlib.pyplot as plt\n",
    "\n",
    "from sklearn.ensemble import IsolationForest\n",
    "\n",
    "# instruction pour plotter dans notebook\n",
    "%matplotlib inline\n",
    "\n",
    "# connection à quandl via l'api key\n",
    "# quandl.ApiConfig.api_key = \" 3CipYF1Y3fzjvDgg7E2n\""
   ]
  },
  {
   "cell_type": "code",
   "execution_count": null,
   "metadata": {},
   "outputs": [],
   "source": [
    "#lecture du fichier contenant les métadata des dataset de la base de données, directement importé de quandl\n",
    "codes = pd.read_csv(\"https://www.quandl.com/api/v3/datasets.csv?database_code=EURONEXT&per_page=100&sort_by=id&page=1&api_key=3CipYF1Y3fzjvDgg7E2n\",index_col=\"id\",usecols=[0,1,2])\n",
    "\n",
    "#Constitution du différents codes de dataset \n",
    "# le .4 signifie que l'on veut garder juste la quatrième colonne\n",
    "codes['codes'] = codes.iloc[:,1]+'/'+codes.iloc[:,0]+'.4'"
   ]
  },
  {
   "cell_type": "code",
   "execution_count": null,
   "metadata": {
    "collapsed": true
   },
   "outputs": [],
   "source": [
    "# importation des données à l'aide d'une fonction pour faire le tout une bonne foi\n",
    "\n",
    "def get(tickers, startdate, enddate):\n",
    "    def data(ticker):\n",
    "        return (quandl.get(ticker, start_date=startdate, end_date=enddate, authtoken=\"3CipYF1Y3fzjvDgg7E2n\"))\n",
    "    datas = map (data, tickers)\n",
    "    return(pd.concat(datas, keys=tickers, names=['Ticker', 'Date']))"
   ]
  },
  {
   "cell_type": "code",
   "execution_count": null,
   "metadata": {
    "collapsed": true
   },
   "outputs": [],
   "source": [
    "# récupération de la colonne des codes puis conversion en list\n",
    "tickers = codes.iloc[0:40,2].values.tolist()"
   ]
  },
  {
   "cell_type": "code",
   "execution_count": null,
   "metadata": {},
   "outputs": [],
   "source": [
    "all_data = get(tickers, datetime.datetime(2010, 1, 1), datetime.datetime(2015, 1, 1))"
   ]
  },
  {
   "cell_type": "code",
   "execution_count": null,
   "metadata": {},
   "outputs": [],
   "source": [
    "all_data.unstack(level = -1)"
   ]
  },
  {
   "cell_type": "markdown",
   "metadata": {},
   "source": [
    "## Rendements\n",
    "\n",
    " DataFrame.diff(periods=1, axis=0)[source]\n",
    "\n",
    "    1st discrete difference of object\n",
    "    Parameters:\t\n",
    "\n",
    "    periods : int, default 1\n",
    "\n",
    "        Periods to shift for forming difference\n",
    "\n",
    "    axis : {0 or ‘index’, 1 or ‘columns’}, default 0\n",
    "\n",
    "        Take difference over rows (0) or columns (1).\n",
    "\n",
    "    Returns:\t\n",
    "\n",
    "    diffed : DataFrame"
   ]
  },
  {
   "cell_type": "code",
   "execution_count": null,
   "metadata": {
    "collapsed": true
   },
   "outputs": [],
   "source": [
    "# \n",
    "\n",
    "rendments = all_data/all_data.diff(1) - 1"
   ]
  },
  {
   "cell_type": "markdown",
   "metadata": {},
   "source": [
    "## Moyennes mobiles"
   ]
  },
  {
   "cell_type": "code",
   "execution_count": null,
   "metadata": {
    "collapsed": true
   },
   "outputs": [],
   "source": [
    "# Calculate the moving average\n",
    "moving_avg = all_data.rolling(window=40).mean()"
   ]
  },
  {
   "cell_type": "markdown",
   "metadata": {},
   "source": [
    "## Volatilités"
   ]
  },
  {
   "cell_type": "code",
   "execution_count": null,
   "metadata": {
    "collapsed": true
   },
   "outputs": [],
   "source": [
    "# volatilité\n",
    "\n",
    "# Define the minumum of periods to consider \n",
    "min_periods = 75 \n",
    "\n",
    "# Calculate the volatility\n",
    "vol = daily_pct_change.rolling(min_periods).std() * np.sqrt(min_periods) \n",
    "\n",
    "# Plot the volatility\n",
    "vol.plot(figsize=(10, 8))\n",
    "\n",
    "# Show the plot\n",
    "plt.show()"
   ]
  },
  {
   "cell_type": "markdown",
   "metadata": {},
   "source": [
    "# Detection d'anomalies"
   ]
  },
  {
   "cell_type": "code",
   "execution_count": null,
   "metadata": {
    "collapsed": true
   },
   "outputs": [],
   "source": [
    "# df_2 est de dataframe qui contient les données dont on doit détecter les anomalies\n",
    "# Applications de l'isolation forest sur les données de rendements ou de volatilités\n",
    "clf = IsolationForest(n_estimator = 100, bootstrap = True)\n",
    "\n",
    "# fit de l'estimateur\n",
    "clf.fit(df_2)\n",
    "\n",
    "# the anomaly score of the input samples. the lower the more abnormal.\n",
    "scores_pred = clf.decision_fonction(df_2)"
   ]
  },
  {
   "cell_type": "code",
   "execution_count": null,
   "metadata": {
    "collapsed": true
   },
   "outputs": [],
   "source": [
    "# Détection d'anomalies sur les actifs\n",
    "\n"
   ]
  }
 ],
 "metadata": {
  "kernelspec": {
   "display_name": "Python 3",
   "language": "python",
   "name": "python3"
  },
  "language_info": {
   "codemirror_mode": {
    "name": "ipython",
    "version": 3
   },
   "file_extension": ".py",
   "mimetype": "text/x-python",
   "name": "python",
   "nbconvert_exporter": "python",
   "pygments_lexer": "ipython3",
   "version": "3.6.1"
  }
 },
 "nbformat": 4,
 "nbformat_minor": 2
}
